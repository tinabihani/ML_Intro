{
 "cells": [
  {
   "cell_type": "markdown",
   "id": "33e857f6",
   "metadata": {
    "papermill": {
     "duration": 0.008371,
     "end_time": "2022-01-20T18:12:30.356768",
     "exception": false,
     "start_time": "2022-01-20T18:12:30.348397",
     "status": "completed"
    },
    "tags": []
   },
   "source": [
    "**This notebook is an exercise in the [Introduction to Machine Learning](https://www.kaggle.com/learn/intro-to-machine-learning) course.  You can reference the tutorial at [this link](https://www.kaggle.com/dansbecker/underfitting-and-overfitting).**\n",
    "\n",
    "---\n"
   ]
  },
  {
   "cell_type": "markdown",
   "id": "113d8b2d",
   "metadata": {
    "papermill": {
     "duration": 0.007139,
     "end_time": "2022-01-20T18:12:30.373764",
     "exception": false,
     "start_time": "2022-01-20T18:12:30.366625",
     "status": "completed"
    },
    "tags": []
   },
   "source": [
    "## Recap\n",
    "You've built your first model, and now it's time to optimize the size of the tree to make better predictions. Run this cell to set up your coding environment where the previous step left off."
   ]
  },
  {
   "cell_type": "code",
   "execution_count": 1,
   "id": "e3f8586e",
   "metadata": {
    "execution": {
     "iopub.execute_input": "2022-01-20T18:12:30.395993Z",
     "iopub.status.busy": "2022-01-20T18:12:30.390617Z",
     "iopub.status.idle": "2022-01-20T18:12:31.550587Z",
     "shell.execute_reply": "2022-01-20T18:12:31.551047Z",
     "shell.execute_reply.started": "2022-01-20T17:46:36.625012Z"
    },
    "papermill": {
     "duration": 1.170561,
     "end_time": "2022-01-20T18:12:31.551343",
     "exception": false,
     "start_time": "2022-01-20T18:12:30.380782",
     "status": "completed"
    },
    "tags": []
   },
   "outputs": [
    {
     "name": "stdout",
     "output_type": "stream",
     "text": [
      "Validation MAE: 29,653\n",
      "\n",
      "Setup complete\n"
     ]
    }
   ],
   "source": [
    "# Code you have previously used to load data\n",
    "import pandas as pd\n",
    "from sklearn.metrics import mean_absolute_error\n",
    "from sklearn.model_selection import train_test_split\n",
    "from sklearn.tree import DecisionTreeRegressor\n",
    "\n",
    "\n",
    "# Path of the file to read\n",
    "iowa_file_path = '../input/home-data-for-ml-course/train.csv'\n",
    "\n",
    "home_data = pd.read_csv(iowa_file_path)\n",
    "# Create target object and call it y\n",
    "y = home_data.SalePrice\n",
    "# Create X\n",
    "features = ['LotArea', 'YearBuilt', '1stFlrSF', '2ndFlrSF', 'FullBath', 'BedroomAbvGr', 'TotRmsAbvGrd']\n",
    "X = home_data[features]\n",
    "\n",
    "# Split into validation and training data\n",
    "train_X, val_X, train_y, val_y = train_test_split(X, y, random_state=1)\n",
    "\n",
    "# Specify Model\n",
    "iowa_model = DecisionTreeRegressor(random_state=1)\n",
    "# Fit Model\n",
    "iowa_model.fit(train_X, train_y)\n",
    "\n",
    "# Make validation predictions and calculate mean absolute error\n",
    "val_predictions = iowa_model.predict(val_X)\n",
    "val_mae = mean_absolute_error(val_predictions, val_y)\n",
    "print(\"Validation MAE: {:,.0f}\".format(val_mae))\n",
    "\n",
    "# Set up code checking\n",
    "from learntools.core import binder\n",
    "binder.bind(globals())\n",
    "from learntools.machine_learning.ex5 import *\n",
    "print(\"\\nSetup complete\")"
   ]
  },
  {
   "cell_type": "markdown",
   "id": "e814a03c",
   "metadata": {
    "papermill": {
     "duration": 0.007193,
     "end_time": "2022-01-20T18:12:31.567432",
     "exception": false,
     "start_time": "2022-01-20T18:12:31.560239",
     "status": "completed"
    },
    "tags": []
   },
   "source": [
    "# Exercises\n",
    "You could write the function `get_mae` yourself. For now, we'll supply it. This is the same function you read about in the previous lesson. Just run the cell below."
   ]
  },
  {
   "cell_type": "code",
   "execution_count": 2,
   "id": "83aa2bcc",
   "metadata": {
    "execution": {
     "iopub.execute_input": "2022-01-20T18:12:31.588891Z",
     "iopub.status.busy": "2022-01-20T18:12:31.588258Z",
     "iopub.status.idle": "2022-01-20T18:12:31.590973Z",
     "shell.execute_reply": "2022-01-20T18:12:31.590503Z",
     "shell.execute_reply.started": "2022-01-20T17:46:59.217984Z"
    },
    "papermill": {
     "duration": 0.016033,
     "end_time": "2022-01-20T18:12:31.591107",
     "exception": false,
     "start_time": "2022-01-20T18:12:31.575074",
     "status": "completed"
    },
    "tags": []
   },
   "outputs": [],
   "source": [
    "def get_mae(max_leaf_nodes, train_X, val_X, train_y, val_y):\n",
    "    model = DecisionTreeRegressor(max_leaf_nodes=max_leaf_nodes, random_state=0)\n",
    "    model.fit(train_X, train_y)\n",
    "    preds_val = model.predict(val_X)\n",
    "    mae = mean_absolute_error(val_y, preds_val)\n",
    "    return(mae)"
   ]
  },
  {
   "cell_type": "markdown",
   "id": "21efaa4e",
   "metadata": {
    "papermill": {
     "duration": 0.007179,
     "end_time": "2022-01-20T18:12:31.605522",
     "exception": false,
     "start_time": "2022-01-20T18:12:31.598343",
     "status": "completed"
    },
    "tags": []
   },
   "source": [
    "## Step 1: Compare Different Tree Sizes\n",
    "Write a loop that tries the following values for *max_leaf_nodes* from a set of possible values.\n",
    "\n",
    "Call the *get_mae* function on each value of max_leaf_nodes. Store the output in some way that allows you to select the value of `max_leaf_nodes` that gives the most accurate model on your data."
   ]
  },
  {
   "cell_type": "code",
   "execution_count": 3,
   "id": "6dab6f3f",
   "metadata": {
    "execution": {
     "iopub.execute_input": "2022-01-20T18:12:31.628767Z",
     "iopub.status.busy": "2022-01-20T18:12:31.628107Z",
     "iopub.status.idle": "2022-01-20T18:12:31.666986Z",
     "shell.execute_reply": "2022-01-20T18:12:31.666540Z",
     "shell.execute_reply.started": "2022-01-20T18:10:08.141171Z"
    },
    "papermill": {
     "duration": 0.054437,
     "end_time": "2022-01-20T18:12:31.667122",
     "exception": false,
     "start_time": "2022-01-20T18:12:31.612685",
     "status": "completed"
    },
    "tags": []
   },
   "outputs": [
    {
     "data": {
      "application/javascript": [
       "parent.postMessage({\"jupyterEvent\": \"custom.exercise_interaction\", \"data\": {\"outcomeType\": 1, \"valueTowardsCompletion\": 0.5, \"interactionType\": 1, \"questionType\": 1, \"questionId\": \"1_BestTreeSize\", \"learnToolsVersion\": \"0.3.4\", \"failureMessage\": \"\", \"exceptionClass\": \"\", \"trace\": \"\"}}, \"*\")"
      ],
      "text/plain": [
       "<IPython.core.display.Javascript object>"
      ]
     },
     "metadata": {},
     "output_type": "display_data"
    },
    {
     "data": {
      "text/markdown": [
       "<span style=\"color:#33cc33\">Correct</span>"
      ],
      "text/plain": [
       "Correct"
      ]
     },
     "metadata": {},
     "output_type": "display_data"
    }
   ],
   "source": [
    "candidate_max_leaf_nodes = [5, 25, 50, 100, 250, 500]\n",
    "k=get_mae(5,train_X,val_X,train_y,val_y)\n",
    "i=0\n",
    "# Write loop to find the ideal tree size from candidate_max_leaf_nodes\n",
    "for max_leaf_nodes in candidate_max_leaf_nodes:\n",
    "    mae=get_mae(max_leaf_nodes,train_X,val_X,train_y,val_y)\n",
    "    if k<mae :\n",
    "        break\n",
    "    k=mae\n",
    "    i=i+1\n",
    "\n",
    "# Store the best value of max_leaf_nodes (it will be either 5, 25, 50, 100, 250 or 500)\n",
    "best_tree_size = candidate_max_leaf_nodes[i-1]\n",
    "\n",
    "# Check your answer\n",
    "step_1.check()"
   ]
  },
  {
   "cell_type": "code",
   "execution_count": 4,
   "id": "f3a2c16b",
   "metadata": {
    "execution": {
     "iopub.execute_input": "2022-01-20T18:12:31.686851Z",
     "iopub.status.busy": "2022-01-20T18:12:31.686296Z",
     "iopub.status.idle": "2022-01-20T18:12:31.689017Z",
     "shell.execute_reply": "2022-01-20T18:12:31.689471Z",
     "shell.execute_reply.started": "2022-01-20T18:10:35.930307Z"
    },
    "papermill": {
     "duration": 0.014444,
     "end_time": "2022-01-20T18:12:31.689625",
     "exception": false,
     "start_time": "2022-01-20T18:12:31.675181",
     "status": "completed"
    },
    "tags": []
   },
   "outputs": [],
   "source": [
    "# The lines below will show you a hint or the solution.\n",
    "#step_1.hint() \n",
    "#step_1.solution()"
   ]
  },
  {
   "cell_type": "markdown",
   "id": "2cbb9373",
   "metadata": {
    "papermill": {
     "duration": 0.007889,
     "end_time": "2022-01-20T18:12:31.705400",
     "exception": false,
     "start_time": "2022-01-20T18:12:31.697511",
     "status": "completed"
    },
    "tags": []
   },
   "source": [
    "## Step 2: Fit Model Using All Data\n",
    "You know the best tree size. If you were going to deploy this model in practice, you would make it even more accurate by using all of the data and keeping that tree size.  That is, you don't need to hold out the validation data now that you've made all your modeling decisions."
   ]
  },
  {
   "cell_type": "code",
   "execution_count": 5,
   "id": "8dbdb047",
   "metadata": {
    "execution": {
     "iopub.execute_input": "2022-01-20T18:12:31.728561Z",
     "iopub.status.busy": "2022-01-20T18:12:31.727965Z",
     "iopub.status.idle": "2022-01-20T18:12:31.738688Z",
     "shell.execute_reply": "2022-01-20T18:12:31.738131Z",
     "shell.execute_reply.started": "2022-01-20T18:12:00.397238Z"
    },
    "papermill": {
     "duration": 0.025497,
     "end_time": "2022-01-20T18:12:31.738815",
     "exception": false,
     "start_time": "2022-01-20T18:12:31.713318",
     "status": "completed"
    },
    "tags": []
   },
   "outputs": [
    {
     "data": {
      "application/javascript": [
       "parent.postMessage({\"jupyterEvent\": \"custom.exercise_interaction\", \"data\": {\"outcomeType\": 1, \"valueTowardsCompletion\": 0.5, \"interactionType\": 1, \"questionType\": 2, \"questionId\": \"2_FitModelWithAllData\", \"learnToolsVersion\": \"0.3.4\", \"failureMessage\": \"\", \"exceptionClass\": \"\", \"trace\": \"\"}}, \"*\")"
      ],
      "text/plain": [
       "<IPython.core.display.Javascript object>"
      ]
     },
     "metadata": {},
     "output_type": "display_data"
    },
    {
     "data": {
      "text/markdown": [
       "<span style=\"color:#33cc33\">Correct</span>"
      ],
      "text/plain": [
       "Correct"
      ]
     },
     "metadata": {},
     "output_type": "display_data"
    }
   ],
   "source": [
    "# Fill in argument to make optimal size and uncomment\n",
    "final_model = DecisionTreeRegressor(max_leaf_nodes=best_tree_size,random_state=0)\n",
    "\n",
    "# fit the final model and uncomment the next two lines\n",
    "final_model.fit(X, y)\n",
    "\n",
    "# Check your answer\n",
    "step_2.check()"
   ]
  },
  {
   "cell_type": "code",
   "execution_count": 6,
   "id": "f5e86509",
   "metadata": {
    "execution": {
     "iopub.execute_input": "2022-01-20T18:12:31.760518Z",
     "iopub.status.busy": "2022-01-20T18:12:31.759958Z",
     "iopub.status.idle": "2022-01-20T18:12:31.762533Z",
     "shell.execute_reply": "2022-01-20T18:12:31.763004Z"
    },
    "papermill": {
     "duration": 0.015205,
     "end_time": "2022-01-20T18:12:31.763178",
     "exception": false,
     "start_time": "2022-01-20T18:12:31.747973",
     "status": "completed"
    },
    "tags": []
   },
   "outputs": [],
   "source": [
    "# step_2.hint()\n",
    "# step_2.solution()"
   ]
  },
  {
   "cell_type": "markdown",
   "id": "97f42711",
   "metadata": {
    "papermill": {
     "duration": 0.008531,
     "end_time": "2022-01-20T18:12:31.780362",
     "exception": false,
     "start_time": "2022-01-20T18:12:31.771831",
     "status": "completed"
    },
    "tags": []
   },
   "source": [
    "You've tuned this model and improved your results. But we are still using Decision Tree models, which are not very sophisticated by modern machine learning standards. In the next step you will learn to use Random Forests to improve your models even more.\n",
    "\n",
    "# Keep Going\n",
    "\n",
    "You are ready for **[Random Forests](https://www.kaggle.com/dansbecker/random-forests).**\n"
   ]
  },
  {
   "cell_type": "markdown",
   "id": "42a7b6c2",
   "metadata": {
    "papermill": {
     "duration": 0.008556,
     "end_time": "2022-01-20T18:12:31.797792",
     "exception": false,
     "start_time": "2022-01-20T18:12:31.789236",
     "status": "completed"
    },
    "tags": []
   },
   "source": [
    "---\n",
    "\n",
    "\n",
    "\n",
    "\n",
    "*Have questions or comments? Visit the [course discussion forum](https://www.kaggle.com/learn/intro-to-machine-learning/discussion) to chat with other learners.*"
   ]
  }
 ],
 "metadata": {
  "kernelspec": {
   "display_name": "Python 3",
   "language": "python",
   "name": "python3"
  },
  "language_info": {
   "codemirror_mode": {
    "name": "ipython",
    "version": 3
   },
   "file_extension": ".py",
   "mimetype": "text/x-python",
   "name": "python",
   "nbconvert_exporter": "python",
   "pygments_lexer": "ipython3",
   "version": "3.7.12"
  },
  "papermill": {
   "default_parameters": {},
   "duration": 10.263584,
   "end_time": "2022-01-20T18:12:32.516849",
   "environment_variables": {},
   "exception": null,
   "input_path": "__notebook__.ipynb",
   "output_path": "__notebook__.ipynb",
   "parameters": {},
   "start_time": "2022-01-20T18:12:22.253265",
   "version": "2.3.3"
  }
 },
 "nbformat": 4,
 "nbformat_minor": 5
}
