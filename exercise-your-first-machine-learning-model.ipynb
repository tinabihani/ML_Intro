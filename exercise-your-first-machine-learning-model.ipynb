{
 "cells": [
  {
   "cell_type": "markdown",
   "id": "ddf5fda8",
   "metadata": {
    "papermill": {
     "duration": 0.016075,
     "end_time": "2022-01-20T17:05:17.342437",
     "exception": false,
     "start_time": "2022-01-20T17:05:17.326362",
     "status": "completed"
    },
    "tags": []
   },
   "source": [
    "**This notebook is an exercise in the [Introduction to Machine Learning](https://www.kaggle.com/learn/intro-to-machine-learning) course.  You can reference the tutorial at [this link](https://www.kaggle.com/dansbecker/your-first-machine-learning-model).**\n",
    "\n",
    "---\n"
   ]
  },
  {
   "cell_type": "markdown",
   "id": "0373ab9c",
   "metadata": {
    "papermill": {
     "duration": 0.014916,
     "end_time": "2022-01-20T17:05:17.372814",
     "exception": false,
     "start_time": "2022-01-20T17:05:17.357898",
     "status": "completed"
    },
    "tags": []
   },
   "source": [
    "## Recap\n",
    "So far, you have loaded your data and reviewed it with the following code. Run this cell to set up your coding environment where the previous step left off."
   ]
  },
  {
   "cell_type": "code",
   "execution_count": 1,
   "id": "24f85f58",
   "metadata": {
    "execution": {
     "iopub.execute_input": "2022-01-20T17:05:17.407335Z",
     "iopub.status.busy": "2022-01-20T17:05:17.406075Z",
     "iopub.status.idle": "2022-01-20T17:05:18.726738Z",
     "shell.execute_reply": "2022-01-20T17:05:18.726010Z",
     "shell.execute_reply.started": "2022-01-20T16:54:14.564279Z"
    },
    "papermill": {
     "duration": 1.339138,
     "end_time": "2022-01-20T17:05:18.726920",
     "exception": false,
     "start_time": "2022-01-20T17:05:17.387782",
     "status": "completed"
    },
    "tags": []
   },
   "outputs": [
    {
     "name": "stdout",
     "output_type": "stream",
     "text": [
      "Setup Complete\n"
     ]
    }
   ],
   "source": [
    "# Code you have previously used to load data\n",
    "import pandas as pd\n",
    "\n",
    "# Path of the file to read\n",
    "iowa_file_path = '../input/home-data-for-ml-course/train.csv'\n",
    "\n",
    "home_data = pd.read_csv(iowa_file_path)\n",
    "\n",
    "# Set up code checking\n",
    "from learntools.core import binder\n",
    "binder.bind(globals())\n",
    "from learntools.machine_learning.ex3 import *\n",
    "\n",
    "print(\"Setup Complete\")"
   ]
  },
  {
   "cell_type": "markdown",
   "id": "3c960ab1",
   "metadata": {
    "papermill": {
     "duration": 0.015029,
     "end_time": "2022-01-20T17:05:18.757878",
     "exception": false,
     "start_time": "2022-01-20T17:05:18.742849",
     "status": "completed"
    },
    "tags": []
   },
   "source": [
    "# Exercises\n",
    "\n",
    "## Step 1: Specify Prediction Target\n",
    "Select the target variable, which corresponds to the sales price. Save this to a new variable called `y`. You'll need to print a list of the columns to find the name of the column you need.\n"
   ]
  },
  {
   "cell_type": "code",
   "execution_count": 2,
   "id": "0fbc2b12",
   "metadata": {
    "execution": {
     "iopub.execute_input": "2022-01-20T17:05:18.795362Z",
     "iopub.status.busy": "2022-01-20T17:05:18.794678Z",
     "iopub.status.idle": "2022-01-20T17:05:18.797163Z",
     "shell.execute_reply": "2022-01-20T17:05:18.797663Z",
     "shell.execute_reply.started": "2022-01-20T16:57:21.476909Z"
    },
    "papermill": {
     "duration": 0.024509,
     "end_time": "2022-01-20T17:05:18.797846",
     "exception": false,
     "start_time": "2022-01-20T17:05:18.773337",
     "status": "completed"
    },
    "tags": []
   },
   "outputs": [
    {
     "name": "stdout",
     "output_type": "stream",
     "text": [
      "Index(['Id', 'MSSubClass', 'MSZoning', 'LotFrontage', 'LotArea', 'Street',\n",
      "       'Alley', 'LotShape', 'LandContour', 'Utilities', 'LotConfig',\n",
      "       'LandSlope', 'Neighborhood', 'Condition1', 'Condition2', 'BldgType',\n",
      "       'HouseStyle', 'OverallQual', 'OverallCond', 'YearBuilt', 'YearRemodAdd',\n",
      "       'RoofStyle', 'RoofMatl', 'Exterior1st', 'Exterior2nd', 'MasVnrType',\n",
      "       'MasVnrArea', 'ExterQual', 'ExterCond', 'Foundation', 'BsmtQual',\n",
      "       'BsmtCond', 'BsmtExposure', 'BsmtFinType1', 'BsmtFinSF1',\n",
      "       'BsmtFinType2', 'BsmtFinSF2', 'BsmtUnfSF', 'TotalBsmtSF', 'Heating',\n",
      "       'HeatingQC', 'CentralAir', 'Electrical', '1stFlrSF', '2ndFlrSF',\n",
      "       'LowQualFinSF', 'GrLivArea', 'BsmtFullBath', 'BsmtHalfBath', 'FullBath',\n",
      "       'HalfBath', 'BedroomAbvGr', 'KitchenAbvGr', 'KitchenQual',\n",
      "       'TotRmsAbvGrd', 'Functional', 'Fireplaces', 'FireplaceQu', 'GarageType',\n",
      "       'GarageYrBlt', 'GarageFinish', 'GarageCars', 'GarageArea', 'GarageQual',\n",
      "       'GarageCond', 'PavedDrive', 'WoodDeckSF', 'OpenPorchSF',\n",
      "       'EnclosedPorch', '3SsnPorch', 'ScreenPorch', 'PoolArea', 'PoolQC',\n",
      "       'Fence', 'MiscFeature', 'MiscVal', 'MoSold', 'YrSold', 'SaleType',\n",
      "       'SaleCondition', 'SalePrice'],\n",
      "      dtype='object')\n"
     ]
    }
   ],
   "source": [
    "# print the list of columns in the dataset to find the name of the prediction target\n",
    "print(home_data.columns)"
   ]
  },
  {
   "cell_type": "code",
   "execution_count": 3,
   "id": "ae8da6d1",
   "metadata": {
    "execution": {
     "iopub.execute_input": "2022-01-20T17:05:18.832921Z",
     "iopub.status.busy": "2022-01-20T17:05:18.832197Z",
     "iopub.status.idle": "2022-01-20T17:05:18.851563Z",
     "shell.execute_reply": "2022-01-20T17:05:18.852145Z",
     "shell.execute_reply.started": "2022-01-20T16:57:27.098807Z"
    },
    "papermill": {
     "duration": 0.038433,
     "end_time": "2022-01-20T17:05:18.852313",
     "exception": false,
     "start_time": "2022-01-20T17:05:18.813880",
     "status": "completed"
    },
    "tags": []
   },
   "outputs": [
    {
     "name": "stdout",
     "output_type": "stream",
     "text": [
      "0       208500\n",
      "1       181500\n",
      "2       223500\n",
      "3       140000\n",
      "4       250000\n",
      "         ...  \n",
      "1455    175000\n",
      "1456    210000\n",
      "1457    266500\n",
      "1458    142125\n",
      "1459    147500\n",
      "Name: SalePrice, Length: 1460, dtype: int64\n"
     ]
    },
    {
     "data": {
      "application/javascript": [
       "parent.postMessage({\"jupyterEvent\": \"custom.exercise_interaction\", \"data\": {\"outcomeType\": 1, \"valueTowardsCompletion\": 0.25, \"interactionType\": 1, \"questionType\": 2, \"questionId\": \"1_SetTarget\", \"learnToolsVersion\": \"0.3.4\", \"failureMessage\": \"\", \"exceptionClass\": \"\", \"trace\": \"\"}}, \"*\")"
      ],
      "text/plain": [
       "<IPython.core.display.Javascript object>"
      ]
     },
     "metadata": {},
     "output_type": "display_data"
    },
    {
     "data": {
      "text/markdown": [
       "<span style=\"color:#33cc33\">Correct</span>"
      ],
      "text/plain": [
       "Correct"
      ]
     },
     "metadata": {},
     "output_type": "display_data"
    }
   ],
   "source": [
    "y=home_data.SalePrice\n",
    "print(y)\n",
    "# Check your answer\n",
    "step_1.check()"
   ]
  },
  {
   "cell_type": "code",
   "execution_count": 4,
   "id": "faed5be9",
   "metadata": {
    "collapsed": true,
    "execution": {
     "iopub.execute_input": "2022-01-20T17:05:18.891365Z",
     "iopub.status.busy": "2022-01-20T17:05:18.890710Z",
     "iopub.status.idle": "2022-01-20T17:05:18.893693Z",
     "shell.execute_reply": "2022-01-20T17:05:18.894257Z"
    },
    "jupyter": {
     "outputs_hidden": true
    },
    "papermill": {
     "duration": 0.024154,
     "end_time": "2022-01-20T17:05:18.894432",
     "exception": false,
     "start_time": "2022-01-20T17:05:18.870278",
     "status": "completed"
    },
    "tags": []
   },
   "outputs": [],
   "source": [
    "# The lines below will show you a hint or the solution.\n",
    "# step_1.hint() \n",
    "# step_1.solution()"
   ]
  },
  {
   "cell_type": "markdown",
   "id": "a1f0ddaa",
   "metadata": {
    "papermill": {
     "duration": 0.017443,
     "end_time": "2022-01-20T17:05:18.930081",
     "exception": false,
     "start_time": "2022-01-20T17:05:18.912638",
     "status": "completed"
    },
    "tags": []
   },
   "source": [
    "## Step 2: Create X\n",
    "Now you will create a DataFrame called `X` holding the predictive features.\n",
    "\n",
    "Since you want only some columns from the original data, you'll first create a list with the names of the columns you want in `X`.\n",
    "\n",
    "You'll use just the following columns in the list (you can copy and paste the whole list to save some typing, though you'll still need to add quotes):\n",
    "    * LotArea\n",
    "    * YearBuilt\n",
    "    * 1stFlrSF\n",
    "    * 2ndFlrSF\n",
    "    * FullBath\n",
    "    * BedroomAbvGr\n",
    "    * TotRmsAbvGrd\n",
    "\n",
    "After you've created that list of features, use it to create the DataFrame that you'll use to fit the model."
   ]
  },
  {
   "cell_type": "code",
   "execution_count": 5,
   "id": "e9c7be8a",
   "metadata": {
    "execution": {
     "iopub.execute_input": "2022-01-20T17:05:18.968803Z",
     "iopub.status.busy": "2022-01-20T17:05:18.967906Z",
     "iopub.status.idle": "2022-01-20T17:05:18.980448Z",
     "shell.execute_reply": "2022-01-20T17:05:18.981023Z",
     "shell.execute_reply.started": "2022-01-20T16:59:11.866278Z"
    },
    "papermill": {
     "duration": 0.033578,
     "end_time": "2022-01-20T17:05:18.981209",
     "exception": false,
     "start_time": "2022-01-20T17:05:18.947631",
     "status": "completed"
    },
    "tags": []
   },
   "outputs": [
    {
     "data": {
      "application/javascript": [
       "parent.postMessage({\"jupyterEvent\": \"custom.exercise_interaction\", \"data\": {\"outcomeType\": 1, \"valueTowardsCompletion\": 0.25, \"interactionType\": 1, \"questionType\": 2, \"questionId\": \"2_SelectPredictionData\", \"learnToolsVersion\": \"0.3.4\", \"failureMessage\": \"\", \"exceptionClass\": \"\", \"trace\": \"\"}}, \"*\")"
      ],
      "text/plain": [
       "<IPython.core.display.Javascript object>"
      ]
     },
     "metadata": {},
     "output_type": "display_data"
    },
    {
     "data": {
      "text/markdown": [
       "<span style=\"color:#33cc33\">Correct</span>"
      ],
      "text/plain": [
       "Correct"
      ]
     },
     "metadata": {},
     "output_type": "display_data"
    }
   ],
   "source": [
    "# Create the list of features below\n",
    "feature_names = ['LotArea' , 'YearBuilt' , '1stFlrSF' , '2ndFlrSF' , 'FullBath' , 'BedroomAbvGr' , 'TotRmsAbvGrd']\n",
    "\n",
    "# Select data corresponding to features in feature_names\n",
    "X = home_data[feature_names]\n",
    "\n",
    "# Check your answer\n",
    "step_2.check()"
   ]
  },
  {
   "cell_type": "code",
   "execution_count": 6,
   "id": "43759dad",
   "metadata": {
    "collapsed": true,
    "execution": {
     "iopub.execute_input": "2022-01-20T17:05:19.022949Z",
     "iopub.status.busy": "2022-01-20T17:05:19.022275Z",
     "iopub.status.idle": "2022-01-20T17:05:19.025442Z",
     "shell.execute_reply": "2022-01-20T17:05:19.026056Z"
    },
    "jupyter": {
     "outputs_hidden": true
    },
    "papermill": {
     "duration": 0.026291,
     "end_time": "2022-01-20T17:05:19.026246",
     "exception": false,
     "start_time": "2022-01-20T17:05:18.999955",
     "status": "completed"
    },
    "tags": []
   },
   "outputs": [],
   "source": [
    "# step_2.hint()\n",
    "# step_2.solution()"
   ]
  },
  {
   "cell_type": "markdown",
   "id": "8cbefc2e",
   "metadata": {
    "papermill": {
     "duration": 0.020454,
     "end_time": "2022-01-20T17:05:19.066415",
     "exception": false,
     "start_time": "2022-01-20T17:05:19.045961",
     "status": "completed"
    },
    "tags": []
   },
   "source": [
    "## Review Data\n",
    "Before building a model, take a quick look at **X** to verify it looks sensible"
   ]
  },
  {
   "cell_type": "code",
   "execution_count": 7,
   "id": "a3f47400",
   "metadata": {
    "execution": {
     "iopub.execute_input": "2022-01-20T17:05:19.106649Z",
     "iopub.status.busy": "2022-01-20T17:05:19.105986Z",
     "iopub.status.idle": "2022-01-20T17:05:19.141926Z",
     "shell.execute_reply": "2022-01-20T17:05:19.141306Z",
     "shell.execute_reply.started": "2022-01-20T16:59:47.653231Z"
    },
    "papermill": {
     "duration": 0.057138,
     "end_time": "2022-01-20T17:05:19.142072",
     "exception": false,
     "start_time": "2022-01-20T17:05:19.084934",
     "status": "completed"
    },
    "tags": []
   },
   "outputs": [
    {
     "name": "stdout",
     "output_type": "stream",
     "text": [
      "             LotArea    YearBuilt     1stFlrSF     2ndFlrSF     FullBath  \\\n",
      "count    1460.000000  1460.000000  1460.000000  1460.000000  1460.000000   \n",
      "mean    10516.828082  1971.267808  1162.626712   346.992466     1.565068   \n",
      "std      9981.264932    30.202904   386.587738   436.528436     0.550916   \n",
      "min      1300.000000  1872.000000   334.000000     0.000000     0.000000   \n",
      "25%      7553.500000  1954.000000   882.000000     0.000000     1.000000   \n",
      "50%      9478.500000  1973.000000  1087.000000     0.000000     2.000000   \n",
      "75%     11601.500000  2000.000000  1391.250000   728.000000     2.000000   \n",
      "max    215245.000000  2010.000000  4692.000000  2065.000000     3.000000   \n",
      "\n",
      "       BedroomAbvGr  TotRmsAbvGrd  \n",
      "count   1460.000000   1460.000000  \n",
      "mean       2.866438      6.517808  \n",
      "std        0.815778      1.625393  \n",
      "min        0.000000      2.000000  \n",
      "25%        2.000000      5.000000  \n",
      "50%        3.000000      6.000000  \n",
      "75%        3.000000      7.000000  \n",
      "max        8.000000     14.000000  \n",
      "   LotArea  YearBuilt  1stFlrSF  2ndFlrSF  FullBath  BedroomAbvGr  \\\n",
      "0     8450       2003       856       854         2             3   \n",
      "1     9600       1976      1262         0         2             3   \n",
      "2    11250       2001       920       866         2             3   \n",
      "3     9550       1915       961       756         1             3   \n",
      "4    14260       2000      1145      1053         2             4   \n",
      "\n",
      "   TotRmsAbvGrd  \n",
      "0             8  \n",
      "1             6  \n",
      "2             6  \n",
      "3             7  \n",
      "4             9  \n"
     ]
    }
   ],
   "source": [
    "# Review data\n",
    "# print description or statistics from X\n",
    "#print(_)\n",
    "print(X.describe())\n",
    "# print the top few lines\n",
    "#print(_)\n",
    "print(X.head())"
   ]
  },
  {
   "cell_type": "markdown",
   "id": "9cbe166b",
   "metadata": {
    "papermill": {
     "duration": 0.01854,
     "end_time": "2022-01-20T17:05:19.179896",
     "exception": false,
     "start_time": "2022-01-20T17:05:19.161356",
     "status": "completed"
    },
    "tags": []
   },
   "source": [
    "## Step 3: Specify and Fit Model\n",
    "Create a `DecisionTreeRegressor` and save it iowa_model. Ensure you've done the relevant import from sklearn to run this command.\n",
    "\n",
    "Then fit the model you just created using the data in `X` and `y` that you saved above."
   ]
  },
  {
   "cell_type": "code",
   "execution_count": 8,
   "id": "4e7e93f0",
   "metadata": {
    "execution": {
     "iopub.execute_input": "2022-01-20T17:05:19.226030Z",
     "iopub.status.busy": "2022-01-20T17:05:19.225214Z",
     "iopub.status.idle": "2022-01-20T17:05:19.239894Z",
     "shell.execute_reply": "2022-01-20T17:05:19.239149Z",
     "shell.execute_reply.started": "2022-01-20T17:02:29.532108Z"
    },
    "papermill": {
     "duration": 0.041207,
     "end_time": "2022-01-20T17:05:19.240061",
     "exception": false,
     "start_time": "2022-01-20T17:05:19.198854",
     "status": "completed"
    },
    "tags": []
   },
   "outputs": [
    {
     "data": {
      "application/javascript": [
       "parent.postMessage({\"jupyterEvent\": \"custom.exercise_interaction\", \"data\": {\"outcomeType\": 1, \"valueTowardsCompletion\": 0.25, \"interactionType\": 1, \"questionType\": 2, \"questionId\": \"3_CreateModel\", \"learnToolsVersion\": \"0.3.4\", \"failureMessage\": \"\", \"exceptionClass\": \"\", \"trace\": \"\"}}, \"*\")"
      ],
      "text/plain": [
       "<IPython.core.display.Javascript object>"
      ]
     },
     "metadata": {},
     "output_type": "display_data"
    },
    {
     "data": {
      "text/markdown": [
       "<span style=\"color:#33cc33\">Correct</span>"
      ],
      "text/plain": [
       "Correct"
      ]
     },
     "metadata": {},
     "output_type": "display_data"
    }
   ],
   "source": [
    "# from _ import _\n",
    "from sklearn.tree import DecisionTreeRegressor\n",
    "#specify the model. \n",
    "#For model reproducibility, set a numeric value for random_state when specifying the model\n",
    "iowa_model = DecisionTreeRegressor(random_state=1)\n",
    "\n",
    "# Fit the model\n",
    "iowa_model.fit(X,y)\n",
    "\n",
    "# Check your answer\n",
    "step_3.check()"
   ]
  },
  {
   "cell_type": "code",
   "execution_count": 9,
   "id": "34d515ac",
   "metadata": {
    "collapsed": true,
    "execution": {
     "iopub.execute_input": "2022-01-20T17:05:19.286744Z",
     "iopub.status.busy": "2022-01-20T17:05:19.285902Z",
     "iopub.status.idle": "2022-01-20T17:05:19.288110Z",
     "shell.execute_reply": "2022-01-20T17:05:19.288612Z"
    },
    "jupyter": {
     "outputs_hidden": true
    },
    "papermill": {
     "duration": 0.027686,
     "end_time": "2022-01-20T17:05:19.288793",
     "exception": false,
     "start_time": "2022-01-20T17:05:19.261107",
     "status": "completed"
    },
    "tags": []
   },
   "outputs": [],
   "source": [
    "# step_3.hint()\n",
    "# step_3.solution()"
   ]
  },
  {
   "cell_type": "markdown",
   "id": "2ebeb97d",
   "metadata": {
    "papermill": {
     "duration": 0.020036,
     "end_time": "2022-01-20T17:05:19.328988",
     "exception": false,
     "start_time": "2022-01-20T17:05:19.308952",
     "status": "completed"
    },
    "tags": []
   },
   "source": [
    "## Step 4: Make Predictions\n",
    "Make predictions with the model's `predict` command using `X` as the data. Save the results to a variable called `predictions`."
   ]
  },
  {
   "cell_type": "code",
   "execution_count": 10,
   "id": "19a438fe",
   "metadata": {
    "execution": {
     "iopub.execute_input": "2022-01-20T17:05:19.372536Z",
     "iopub.status.busy": "2022-01-20T17:05:19.371878Z",
     "iopub.status.idle": "2022-01-20T17:05:19.384727Z",
     "shell.execute_reply": "2022-01-20T17:05:19.385203Z",
     "shell.execute_reply.started": "2022-01-20T17:03:24.662899Z"
    },
    "papermill": {
     "duration": 0.036282,
     "end_time": "2022-01-20T17:05:19.385379",
     "exception": false,
     "start_time": "2022-01-20T17:05:19.349097",
     "status": "completed"
    },
    "tags": []
   },
   "outputs": [
    {
     "name": "stdout",
     "output_type": "stream",
     "text": [
      "[208500. 181500. 223500. ... 266500. 142125. 147500.]\n"
     ]
    },
    {
     "data": {
      "application/javascript": [
       "parent.postMessage({\"jupyterEvent\": \"custom.exercise_interaction\", \"data\": {\"outcomeType\": 1, \"valueTowardsCompletion\": 0.25, \"interactionType\": 1, \"questionType\": 2, \"questionId\": \"4_MakePredictions\", \"learnToolsVersion\": \"0.3.4\", \"failureMessage\": \"\", \"exceptionClass\": \"\", \"trace\": \"\"}}, \"*\")"
      ],
      "text/plain": [
       "<IPython.core.display.Javascript object>"
      ]
     },
     "metadata": {},
     "output_type": "display_data"
    },
    {
     "data": {
      "text/markdown": [
       "<span style=\"color:#33cc33\">Correct</span>"
      ],
      "text/plain": [
       "Correct"
      ]
     },
     "metadata": {},
     "output_type": "display_data"
    }
   ],
   "source": [
    "predictions = iowa_model.predict(X)\n",
    "print(predictions)\n",
    "\n",
    "# Check your answer\n",
    "step_4.check()"
   ]
  },
  {
   "cell_type": "code",
   "execution_count": 11,
   "id": "c8a2c5f8",
   "metadata": {
    "collapsed": true,
    "execution": {
     "iopub.execute_input": "2022-01-20T17:05:19.432655Z",
     "iopub.status.busy": "2022-01-20T17:05:19.431994Z",
     "iopub.status.idle": "2022-01-20T17:05:19.434932Z",
     "shell.execute_reply": "2022-01-20T17:05:19.435490Z"
    },
    "jupyter": {
     "outputs_hidden": true
    },
    "papermill": {
     "duration": 0.028296,
     "end_time": "2022-01-20T17:05:19.435664",
     "exception": false,
     "start_time": "2022-01-20T17:05:19.407368",
     "status": "completed"
    },
    "tags": []
   },
   "outputs": [],
   "source": [
    "# step_4.hint()\n",
    "# step_4.solution()"
   ]
  },
  {
   "cell_type": "markdown",
   "id": "07e6efd6",
   "metadata": {
    "papermill": {
     "duration": 0.020933,
     "end_time": "2022-01-20T17:05:19.477931",
     "exception": false,
     "start_time": "2022-01-20T17:05:19.456998",
     "status": "completed"
    },
    "tags": []
   },
   "source": [
    "## Think About Your Results\n",
    "\n",
    "Use the `head` method to compare the top few predictions to the actual home values (in `y`) for those same homes. Anything surprising?\n"
   ]
  },
  {
   "cell_type": "code",
   "execution_count": 12,
   "id": "a5965fe8",
   "metadata": {
    "execution": {
     "iopub.execute_input": "2022-01-20T17:05:19.524803Z",
     "iopub.status.busy": "2022-01-20T17:05:19.524113Z",
     "iopub.status.idle": "2022-01-20T17:05:19.527710Z",
     "shell.execute_reply": "2022-01-20T17:05:19.528243Z",
     "shell.execute_reply.started": "2022-01-20T17:04:47.260568Z"
    },
    "papermill": {
     "duration": 0.028807,
     "end_time": "2022-01-20T17:05:19.528408",
     "exception": false,
     "start_time": "2022-01-20T17:05:19.499601",
     "status": "completed"
    },
    "tags": []
   },
   "outputs": [],
   "source": [
    "# You can write code in this cell\n"
   ]
  },
  {
   "cell_type": "markdown",
   "id": "25ea160a",
   "metadata": {
    "papermill": {
     "duration": 0.021468,
     "end_time": "2022-01-20T17:05:19.572363",
     "exception": false,
     "start_time": "2022-01-20T17:05:19.550895",
     "status": "completed"
    },
    "tags": []
   },
   "source": [
    "It's natural to ask how accurate the model's predictions will be and how you can improve that. That will be you're next step.\n",
    "\n",
    "# Keep Going\n",
    "\n",
    "You are ready for **[Model Validation](https://www.kaggle.com/dansbecker/model-validation).**\n"
   ]
  },
  {
   "cell_type": "markdown",
   "id": "c367bddd",
   "metadata": {
    "papermill": {
     "duration": 0.021296,
     "end_time": "2022-01-20T17:05:19.615399",
     "exception": false,
     "start_time": "2022-01-20T17:05:19.594103",
     "status": "completed"
    },
    "tags": []
   },
   "source": [
    "---\n",
    "\n",
    "\n",
    "\n",
    "\n",
    "*Have questions or comments? Visit the [course discussion forum](https://www.kaggle.com/learn/intro-to-machine-learning/discussion) to chat with other learners.*"
   ]
  }
 ],
 "metadata": {
  "kernelspec": {
   "display_name": "Python 3",
   "language": "python",
   "name": "python3"
  },
  "language_info": {
   "codemirror_mode": {
    "name": "ipython",
    "version": 3
   },
   "file_extension": ".py",
   "mimetype": "text/x-python",
   "name": "python",
   "nbconvert_exporter": "python",
   "pygments_lexer": "ipython3",
   "version": "3.7.12"
  },
  "papermill": {
   "default_parameters": {},
   "duration": 13.679977,
   "end_time": "2022-01-20T17:05:20.348621",
   "environment_variables": {},
   "exception": null,
   "input_path": "__notebook__.ipynb",
   "output_path": "__notebook__.ipynb",
   "parameters": {},
   "start_time": "2022-01-20T17:05:06.668644",
   "version": "2.3.3"
  }
 },
 "nbformat": 4,
 "nbformat_minor": 5
}
